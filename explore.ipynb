{
 "cells": [
  {
   "attachments": {},
   "cell_type": "markdown",
   "metadata": {},
   "source": [
    "# Assignment 1 - Rhythm Generator\n",
    "### Mariella Daghfal, Kaede Johnson, Shayan Khajehnouri, & Tahel Singer"
   ]
  },
  {
   "cell_type": "code",
   "execution_count": 114,
   "metadata": {},
   "outputs": [],
   "source": [
    "# to be safe i personally created venv with anaconda terminal.\n",
    "# conda create -n \"digital_musicology\" python=3.8\n",
    "# conda activate digital_musicology\n",
    "# conda install pip"
   ]
  },
  {
   "cell_type": "code",
   "execution_count": 115,
   "metadata": {},
   "outputs": [],
   "source": [
    "## Dependencies\n",
    "# pip install music21\n",
    "# pip install tqdm\n",
    "# pip install pandas\n",
    "from music21 import *\n",
    "from tqdm import *\n",
    "import pandas as pd\n",
    "import numpy as np\n",
    "import collections\n",
    "\n",
    "## for viewing score, download and install finale note pad at https://store.makemusic.com/Downloads/Default.aspx?id=538&_ga=2.3616692.58482559.1678537005-1850486829.1678537005 and then run:\n",
    "# configure.run()\n",
    "\n",
    "## I don't know if it's because I screwed up something during initial setup but this is what I had to do to get music showing:\n",
    "# environment.set('musescoreDirectPNGPath', 'C:\\\\Program Files (x86)\\\\Finale NotePad 2012\\\\Finale NotePad.exe')"
   ]
  },
  {
   "cell_type": "code",
   "execution_count": 116,
   "metadata": {},
   "outputs": [],
   "source": [
    "## Bach score from package\n",
    "\n",
    "s = corpus.parse('bach/bwv65.2.xml')\n",
    "\n",
    "# Print music12 object to show it worked\n",
    "# s.show('text')\n",
    "\n",
    "# image version (ideally this is inline but i can't get that working; for me it pulls open finale note pad with the sheet music in a separate window)\n",
    "# s.show()"
   ]
  },
  {
   "cell_type": "code",
   "execution_count": 117,
   "metadata": {},
   "outputs": [
    {
     "name": "stderr",
     "output_type": "stream",
     "text": [
      "  6%|▌         | 37/600 [00:01<00:23, 24.47it/s]"
     ]
    },
    {
     "name": "stdout",
     "output_type": "stream",
     "text": [
      "excluding Ninas_slängpolska_20240b.xml. 2 meter(s), first is 3/4\n"
     ]
    },
    {
     "name": "stderr",
     "output_type": "stream",
     "text": [
      " 24%|██▍       | 146/600 [00:03<00:04, 94.87it/s]"
     ]
    },
    {
     "name": "stdout",
     "output_type": "stream",
     "text": [
      "excluding Poloness_ur_Andreas_Hööks_notbok_cae293.xml. 4 meter(s), first is 2/2\n",
      "excluding Polonoise_92b598.xml. 2 meter(s), first is 3/4\n"
     ]
    },
    {
     "name": "stderr",
     "output_type": "stream",
     "text": [
      " 49%|████▉     | 293/600 [00:04<00:03, 88.04it/s] "
     ]
    },
    {
     "name": "stdout",
     "output_type": "stream",
     "text": [
      "excluding Polonäs_i_Dm_efter_Daniel_Danielsson_ac3754.xml. 2 meter(s), first is 3/4\n"
     ]
    },
    {
     "name": "stderr",
     "output_type": "stream",
     "text": [
      " 53%|█████▎    | 320/600 [00:04<00:03, 80.15it/s]"
     ]
    },
    {
     "name": "stdout",
     "output_type": "stream",
     "text": [
      "excluding Polonäs_sexdregasamlingen_del_3_nr_1_d8c3dc.xml. 2 meter(s), first is 3/4\n"
     ]
    },
    {
     "name": "stderr",
     "output_type": "stream",
     "text": [
      " 65%|██████▌   | 391/600 [00:07<00:03, 55.80it/s]"
     ]
    },
    {
     "name": "stdout",
     "output_type": "stream",
     "text": [
      "excluding Polska_efter_Wesslén_bec4ac.xml. 2 meter(s), first is 3/4\n",
      "excluding Polska_efter_Wesslén_ce0449.xml. 2 meter(s), first is 3/4\n",
      "excluding Polska_efter_Wesslén_fc5278.xml. 2 meter(s), first is 3/4\n",
      "excluding Polska_från_Västergötland_4b64d8.xml. 3 meter(s), first is 3/4\n"
     ]
    },
    {
     "name": "stderr",
     "output_type": "stream",
     "text": [
      " 72%|███████▏  | 429/600 [00:08<00:02, 73.51it/s]"
     ]
    },
    {
     "name": "stdout",
     "output_type": "stream",
     "text": [
      "excluding Sydjämtsk_slängpolska_efter_JohnErik_Mattsson_2a0874.xml. 2 meter(s), first is 3/4\n"
     ]
    },
    {
     "name": "stderr",
     "output_type": "stream",
     "text": [
      " 81%|████████▏ | 488/600 [00:08<00:01, 92.80it/s]"
     ]
    },
    {
     "name": "stdout",
     "output_type": "stream",
     "text": [
      "excluding _Polonäs_sexdregasamlingen_del_1_nr_36_dfc2c9.xml. 2 meter(s), first is 3/4\n",
      "excluding _Polonäs_sexdregasamlingen_del_1_nr_36_ed2b21.xml. 2 meter(s), first is 3/4\n"
     ]
    },
    {
     "name": "stderr",
     "output_type": "stream",
     "text": [
      " 95%|█████████▍| 569/600 [00:09<00:00, 79.50it/s]"
     ]
    },
    {
     "name": "stdout",
     "output_type": "stream",
     "text": [
      "excluding _Polska_efter_Gustav_Strutz_21bb05.xml. 5 meter(s), first is 3/4\n",
      "excluding _Polska_efter_Gustav_Strutz_5b7324.xml. 5 meter(s), first is 3/4\n"
     ]
    },
    {
     "name": "stderr",
     "output_type": "stream",
     "text": [
      "100%|██████████| 600/600 [00:10<00:00, 59.16it/s]"
     ]
    },
    {
     "name": "stdout",
     "output_type": "stream",
     "text": [
      "excluding _Polska_Kringellåt_efter_Snickar_Erik_985b63.xml. 3 meter(s), first is 4/4\n",
      "Imported 584 scores into corpus. Excluded 15 due to inconsistent meter.\n"
     ]
    },
    {
     "name": "stderr",
     "output_type": "stream",
     "text": [
      "\n"
     ]
    }
   ],
   "source": [
    "## Load scores into corpus\n",
    "# Be sure to modify folder path below\n",
    "# Excludes scores that aren't strictly 3/4 meter all the way through (only 15 / 600)\n",
    "\n",
    "import os\n",
    "import tqdm\n",
    "slangpolska_scores = {}\n",
    "excluded = 0\n",
    "# CHANGE FOLDER BELOW TO LOCATION OF XML FILES. Download xml folders from https://github.com/DCMLab/music-generation-challenge-2021/tree/main/data\n",
    "xml_file_location = 'C:/Users/HP/anaconda3/envs/digital_musicology/xml/'\n",
    "scores_xml = os.listdir(xml_file_location)\n",
    "for si in trange(len(scores_xml)):\n",
    "    if scores_xml[si] != 'conversion.log':\n",
    "        tmp = converter.parse(xml_file_location + scores_xml[si])\n",
    "        tmp_meters = tmp.recurse().getElementsByClass(meter.TimeSignature)\n",
    "        if len(tmp_meters) != 1 or tmp_meters[0].ratioString != '3/4':\n",
    "            print('excluding ' + scores_xml[si] + '. ' + str(len(tmp_meters)) + ' meter(s), first is ' + tmp_meters[0].ratioString)\n",
    "            excluded += 1\n",
    "        else:\n",
    "            slangpolska_scores[scores_xml[si]] = tmp\n",
    "\n",
    "print('Imported ' + str(len(slangpolska_scores)) + ' scores into corpus. Excluded ' + str(excluded) + ' due to inconsistent meter.')\n"
   ]
  },
  {
   "cell_type": "code",
   "execution_count": 36,
   "metadata": {},
   "outputs": [
    {
     "name": "stdout",
     "output_type": "stream",
     "text": [
      "music21 object for imported score is called <class 'music21.stream.base.Score'>\n",
      "The first time signature object is 3/4\n",
      "There is (are) 1 time signature object(s)\n",
      "Measure 6 does not have a time signature object: True\n",
      "Recall the sample score is in time 3/4\n",
      "Measure 1\n",
      "Beat: 1.0, Duration: 0.5, Pitch: D\n",
      "Beat: 1.5, Duration: 0.5, Pitch: C\n",
      "Beat: 2.0, Duration: 1.0, Pitch: B\n",
      "Beat: 3.0, Duration: 1.0, Pitch: G\n",
      "Measure 2\n",
      "Beat: 1.0, Duration: 0.5, Pitch: C\n",
      "Beat: 1.5, Duration: 0.5, Pitch: B\n",
      "Beat: 2.0, Duration: 1.0, Pitch: A\n",
      "Beat: 3.0, Duration: 1.0, Pitch: D\n",
      "Measure 3\n",
      "Beat: 1.0, Duration: 0.75, Pitch: G\n",
      "Beat: 1.75, Duration: 0.25, Pitch: F#\n",
      "Beat: 2.0, Duration: 0.5, Pitch: G\n",
      "Beat: 2.5, Duration: 0.5, Pitch: A\n",
      "Beat: 3.0, Duration: 0.5, Pitch: B\n",
      "Beat: 3.5, Duration: 0.5, Pitch: C\n",
      "Measure 4\n",
      "Beat: 1.0, Duration: 0.5, Pitch: D\n",
      "Beat: 1.5, Duration: 0.25, Pitch: D\n",
      "Beat: 1.75, Duration: 0.25, Pitch: E\n",
      "Beat: 2.0, Duration: 0.5, Pitch: D\n",
      "Beat: 2.5, Duration: 0.5, Pitch: C\n",
      "Beat: 3.0, Duration: 0.5, Pitch: B\n",
      "Beat: 3.5, Duration: 0.5, Pitch: C\n",
      "Measure 5\n",
      "Beat: 1.0, Duration: 0.5, Pitch: D\n",
      "Beat: 1.5, Duration: 0.5, Pitch: C\n",
      "Beat: 2.0, Duration: 1.0, Pitch: B\n",
      "Beat: 3.0, Duration: 1.0, Pitch: G\n",
      "Measure 6\n",
      "Beat: 1.0, Duration: 0.5, Pitch: C\n",
      "Beat: 1.5, Duration: 0.5, Pitch: B\n",
      "Beat: 2.0, Duration: 1.0, Pitch: A\n",
      "Beat: 3.0, Duration: 1.0, Pitch: D\n",
      "Measure 7\n",
      "Beat: 1.0, Duration: 0.75, Pitch: G\n",
      "Beat: 1.75, Duration: 0.25, Pitch: F#\n",
      "Beat: 2.0, Duration: 0.5, Pitch: G\n",
      "Beat: 2.5, Duration: 0.5, Pitch: A\n",
      "Beat: 3.0, Duration: 0.5, Pitch: B\n",
      "Beat: 3.5, Duration: 0.5, Pitch: C\n",
      "Measure 8\n",
      "Beat: 1.0, Duration: 0.5, Pitch: A\n",
      "Beat: 1.5, Duration: 0.5, Pitch: F#\n",
      "Beat: 2.0, Duration: 2.0, Pitch: G\n",
      "Measure 9\n",
      "Beat: 1.0, Duration: 0.5, Pitch: D\n",
      "Beat: 1.5, Duration: 0.5, Pitch: D\n",
      "Beat: 2.0, Duration: 0.5, Pitch: D\n",
      "Beat: 2.5, Duration: 0.5, Pitch: D\n",
      "Beat: 3.0, Duration: 0.5, Pitch: D\n",
      "Beat: 3.5, Duration: 0.5, Pitch: D\n",
      "Measure 10\n",
      "Beat: 1.0, Duration: 0.5, Pitch: D\n",
      "Beat: 1.5, Duration: 0.5, Pitch: E\n",
      "Beat: 2.0, Duration: 0.5, Pitch: E\n",
      "Beat: 2.5, Duration: 0.5, Pitch: E\n",
      "Beat: 3.0, Duration: 0.5, Pitch: E\n",
      "Beat: 3.5, Duration: 0.5, Pitch: F#\n",
      "Measure 11\n",
      "Beat: 1.0, Duration: 0.75, Pitch: G\n",
      "Beat: 1.75, Duration: 0.25, Pitch: A\n",
      "Beat: 2.0, Duration: 0.5, Pitch: B\n",
      "Beat: 2.5, Duration: 0.5, Pitch: A\n",
      "Beat: 3.0, Duration: 0.5, Pitch: G\n",
      "Beat: 3.5, Duration: 0.5, Pitch: F#\n",
      "Measure 12\n",
      "Beat: 1.0, Duration: 1.0, Pitch: G\n",
      "Beat: 2.0, Duration: 0.25, Pitch: D\n",
      "Beat: 2.25, Duration: 0.25, Pitch: E\n",
      "Beat: 2.5, Duration: 0.25, Pitch: D\n",
      "Beat: 2.75, Duration: 0.25, Pitch: C\n",
      "Beat: 3.0, Duration: 0.5, Pitch: B\n",
      "Beat: 3.5, Duration: 0.5, Pitch: C\n",
      "Measure 13\n",
      "Beat: 1.0, Duration: 0.5, Pitch: D\n",
      "Beat: 1.5, Duration: 0.5, Pitch: D\n",
      "Beat: 2.0, Duration: 0.5, Pitch: D\n",
      "Beat: 2.5, Duration: 0.5, Pitch: D\n",
      "Beat: 3.0, Duration: 0.5, Pitch: D\n",
      "Beat: 3.5, Duration: 0.5, Pitch: D\n",
      "Measure 14\n",
      "Beat: 1.0, Duration: 0.5, Pitch: D\n",
      "Beat: 1.5, Duration: 0.5, Pitch: E\n",
      "Beat: 2.0, Duration: 0.5, Pitch: E\n",
      "Beat: 2.5, Duration: 0.5, Pitch: E\n",
      "Beat: 3.0, Duration: 0.5, Pitch: E\n",
      "Beat: 3.5, Duration: 0.5, Pitch: F#\n",
      "Measure 15\n",
      "Beat: 1.0, Duration: 0.75, Pitch: G\n",
      "Beat: 1.75, Duration: 0.25, Pitch: A\n",
      "Beat: 2.0, Duration: 0.5, Pitch: B\n",
      "Beat: 2.5, Duration: 0.5, Pitch: A\n",
      "Beat: 3.0, Duration: 0.5, Pitch: G\n",
      "Beat: 3.5, Duration: 0.5, Pitch: F#\n",
      "Measure 16\n",
      "Beat: 1.0, Duration: 1.0, Pitch: G\n",
      "Beat: 2.0, Duration: 2.0, Pitch: G\n",
      "Music21 object print:\n",
      "{0.0} <music21.metadata.Metadata object at 0x118cdc9f910>\n",
      "{0.0} <music21.stream.Part 0x118cdc9fe50>\n",
      "    {0.0} <music21.instrument.Instrument 'P1: '>\n",
      "    {0.0} <music21.stream.Measure 1 offset=0.0>\n",
      "        {0.0} <music21.key.Key of G major>\n",
      "        {0.0} <music21.meter.TimeSignature 3/4>\n",
      "        {0.0} <music21.note.Note D>\n",
      "        {0.5} <music21.note.Note C>\n",
      "        {1.0} <music21.note.Note B>\n",
      "        {2.0} <music21.note.Note G>\n",
      "    {0.0} <music21.spanner.Slur <music21.note.Note D><music21.note.Note E>>\n",
      "    {0.0} <music21.spanner.Slur <music21.note.Note D><music21.note.Note E>>\n",
      "    {0.0} <music21.spanner.Slur <music21.note.Note D><music21.note.Note E>>\n",
      "    {3.0} <music21.stream.Measure 2 offset=3.0>\n",
      "        {0.0} <music21.note.Note C>\n",
      "        {0.5} <music21.note.Note B>\n",
      "        {1.0} <music21.note.Note A>\n",
      "        {2.0} <music21.note.Note D>\n",
      "    {6.0} <music21.stream.Measure 3 offset=6.0>\n",
      "        {0.0} <music21.note.Note G>\n",
      "        {0.75} <music21.note.Note F#>\n",
      "        {1.0} <music21.note.Note G>\n",
      "        {1.5} <music21.note.Note A>\n",
      "        {2.0} <music21.note.Note B>\n",
      "        {2.5} <music21.note.Note C>\n",
      "    {9.0} <music21.stream.Measure 4 offset=9.0>\n",
      "        {0.0} <music21.note.Note D>\n",
      "        {0.5} <music21.note.Note D>\n",
      "        {0.75} <music21.note.Note E>\n",
      "        {1.0} <music21.note.Note D>\n",
      "        {1.5} <music21.note.Note C>\n",
      "        {2.0} <music21.note.Note B>\n",
      "        {2.5} <music21.note.Note C>\n",
      "    {12.0} <music21.stream.Measure 5 offset=12.0>\n",
      "        {0.0} <music21.note.Note D>\n",
      "        {0.5} <music21.note.Note C>\n",
      "        {1.0} <music21.note.Note B>\n",
      "        {2.0} <music21.note.Note G>\n",
      "    {15.0} <music21.stream.Measure 6 offset=15.0>\n",
      "        {0.0} <music21.note.Note C>\n",
      "        {0.5} <music21.note.Note B>\n",
      "        {1.0} <music21.note.Note A>\n",
      "        {2.0} <music21.note.Note D>\n",
      "    {18.0} <music21.stream.Measure 7 offset=18.0>\n",
      "        {0.0} <music21.note.Note G>\n",
      "        {0.75} <music21.note.Note F#>\n",
      "        {1.0} <music21.note.Note G>\n",
      "        {1.5} <music21.note.Note A>\n",
      "        {2.0} <music21.note.Note B>\n",
      "        {2.5} <music21.note.Note C>\n",
      "    {21.0} <music21.stream.Measure 8 offset=21.0>\n",
      "        {0.0} <music21.note.Note A>\n",
      "        {0.5} <music21.note.Note F#>\n",
      "        {1.0} <music21.note.Note G>\n",
      "        {3.0} <music21.bar.Repeat direction=end>\n",
      "    {24.0} <music21.stream.Measure 9 offset=24.0>\n",
      "        {0.0} <music21.bar.Repeat direction=start>\n",
      "        {0.0} <music21.note.Note D>\n",
      "        {0.5} <music21.note.Note D>\n",
      "        {1.0} <music21.note.Note D>\n",
      "        {1.5} <music21.note.Note D>\n",
      "        {2.0} <music21.note.Note D>\n",
      "        {2.5} <music21.note.Note D>\n",
      "    {27.0} <music21.stream.Measure 10 offset=27.0>\n",
      "        {0.0} <music21.note.Note D>\n",
      "        {0.5} <music21.note.Note E>\n",
      "        {1.0} <music21.note.Note E>\n",
      "        {1.5} <music21.note.Note E>\n",
      "        {2.0} <music21.note.Note E>\n",
      "        {2.5} <music21.note.Note F#>\n",
      "    {30.0} <music21.stream.Measure 11 offset=30.0>\n",
      "        {0.0} <music21.note.Note G>\n",
      "        {0.75} <music21.note.Note A>\n",
      "        {1.0} <music21.note.Note B>\n",
      "        {1.5} <music21.note.Note A>\n",
      "        {2.0} <music21.note.Note G>\n",
      "        {2.5} <music21.note.Note F#>\n",
      "    {33.0} <music21.stream.Measure 12 offset=33.0>\n",
      "        {0.0} <music21.note.Note G>\n",
      "        {1.0} <music21.note.Note D>\n",
      "        {1.25} <music21.note.Note E>\n",
      "        {1.5} <music21.note.Note D>\n",
      "        {1.75} <music21.note.Note C>\n",
      "        {2.0} <music21.note.Note B>\n",
      "        {2.5} <music21.note.Note C>\n",
      "    {36.0} <music21.stream.Measure 13 offset=36.0>\n",
      "        {0.0} <music21.note.Note D>\n",
      "        {0.5} <music21.note.Note D>\n",
      "        {1.0} <music21.note.Note D>\n",
      "        {1.5} <music21.note.Note D>\n",
      "        {2.0} <music21.note.Note D>\n",
      "        {2.5} <music21.note.Note D>\n",
      "    {39.0} <music21.stream.Measure 14 offset=39.0>\n",
      "        {0.0} <music21.note.Note D>\n",
      "        {0.5} <music21.note.Note E>\n",
      "        {1.0} <music21.note.Note E>\n",
      "        {1.5} <music21.note.Note E>\n",
      "        {2.0} <music21.note.Note E>\n",
      "        {2.5} <music21.note.Note F#>\n",
      "    {42.0} <music21.stream.Measure 15 offset=42.0>\n",
      "        {0.0} <music21.note.Note G>\n",
      "        {0.75} <music21.note.Note A>\n",
      "        {1.0} <music21.note.Note B>\n",
      "        {1.5} <music21.note.Note A>\n",
      "        {2.0} <music21.note.Note G>\n",
      "        {2.5} <music21.note.Note F#>\n",
      "    {45.0} <music21.stream.Measure 16 offset=45.0>\n",
      "        {0.0} <music21.note.Note G>\n",
      "        {1.0} <music21.note.Note G>\n",
      "        {3.0} <music21.bar.Repeat direction=end>\n"
     ]
    }
   ],
   "source": [
    "# Investigate one score to get familiar with music21\n",
    "sample_score = slangpolska_scores['_1814_698087.xml']\n",
    "print('music21 object for imported score is called ' + str(type(sample_score)))\n",
    "#print('sample score key is ' + str(sample_score.analyze('key')))\n",
    "print('The first time signature object is ' + sample_score.recurse().getElementsByClass(meter.TimeSignature)[0].ratioString)\n",
    "print('There is (are) ' + str(len(sample_score.recurse().getElementsByClass(meter.TimeSignature))) + ' time signature object(s)')\n",
    "print('Measure 6 does not have a time signature object: ' + str(sample_score.measure(6).timeSignature is None))\n",
    "print('Recall the sample score is in time ' + sample_score.recurse().getElementsByClass(meter.TimeSignature)[0].ratioString)\n",
    "curr_measure = 0\n",
    "for i in sample_score.recurse().notes:\n",
    "    if i.measureNumber != curr_measure:\n",
    "        curr_measure = i.measureNumber\n",
    "        print(\"Measure \" + str(curr_measure))\n",
    "    print('Beat: ' + str(i.beat) + ', Duration: ' + str(i.duration.quarterLength) + ', Pitch: ' + str(i.name))\n",
    "print('Music21 object print:')\n",
    "sample_score.show('text')"
   ]
  },
  {
   "cell_type": "code",
   "execution_count": 106,
   "metadata": {},
   "outputs": [
    {
     "data": {
      "text/plain": [
       "[(1.0, 9486),\n",
       " (2.0, 9320),\n",
       " (3.0, 8826),\n",
       " (1.5, 7895),\n",
       " (2.5, 7073),\n",
       " (1.75, 6077),\n",
       " (3.5, 5808),\n",
       " (2.75, 4338),\n",
       " (1.25, 3120),\n",
       " (3.75, 2736),\n",
       " (2.25, 2520),\n",
       " (3.25, 1692),\n",
       " (Fraction(5, 3), 33),\n",
       " (Fraction(4, 3), 29),\n",
       " (Fraction(8, 3), 22),\n",
       " (Fraction(7, 3), 21),\n",
       " (Fraction(10, 3), 19),\n",
       " (Fraction(11, 3), 18),\n",
       " (Fraction(11, 6), 10),\n",
       " (1.875, 10),\n",
       " (2.875, 8),\n",
       " (3.875, 6),\n",
       " (2.125, 6),\n",
       " (1.375, 5),\n",
       " (Fraction(7, 6), 5),\n",
       " (Fraction(19, 6), 3),\n",
       " (Fraction(17, 6), 3),\n",
       " (1.625, 3),\n",
       " (2.625, 3),\n",
       " (2.375, 2),\n",
       " (Fraction(13, 6), 2),\n",
       " (Fraction(23, 12), 2),\n",
       " (Fraction(23, 6), 2),\n",
       " (3.625, 2),\n",
       " (nan, 1),\n",
       " (nan, 1)]"
      ]
     },
     "execution_count": 106,
     "metadata": {},
     "output_type": "execute_result"
    }
   ],
   "source": [
    "# Tokenization\n",
    "# Starting simple until we define rhythm. Tokens will simply be location of beat in measure (that is, first element in Beat: , Duration: , Pitch: printout sequence above)\n",
    "# First, observe where beats can occur (also sneakily multiply beat timings by 12 because see output + explanation in next cell)\n",
    "import collections\n",
    "all_beats = []\n",
    "tokenized_corpus = {}\n",
    "for score in slangpolska_scores:\n",
    "    timing_tokens = []\n",
    "    for note in slangpolska_scores[score].recurse().notes:\n",
    "        all_beats.append(note.beat)\n",
    "        timing_tokens.append(float(note.beat * 12))\n",
    "    tokenized_corpus[score] = timing_tokens\n",
    "collections.Counter(all_beats).most_common(50)"
   ]
  },
  {
   "cell_type": "code",
   "execution_count": 113,
   "metadata": {},
   "outputs": [
    {
     "data": {
      "text/plain": [
       "[(12.0, 9486),\n",
       " (24.0, 9320),\n",
       " (36.0, 8826),\n",
       " (18.0, 7895),\n",
       " (30.0, 7073),\n",
       " (21.0, 6077),\n",
       " (42.0, 5808),\n",
       " (33.0, 4338),\n",
       " (15.0, 3120),\n",
       " (45.0, 2736),\n",
       " (27.0, 2520),\n",
       " (39.0, 1692),\n",
       " (20.0, 33),\n",
       " (16.0, 29),\n",
       " (32.0, 22),\n",
       " (28.0, 21),\n",
       " (40.0, 19),\n",
       " (44.0, 18),\n",
       " (22.0, 10),\n",
       " (22.5, 10),\n",
       " (34.5, 8),\n",
       " (46.5, 6),\n",
       " (25.5, 6),\n",
       " (16.5, 5),\n",
       " (14.0, 5),\n",
       " (38.0, 3),\n",
       " (34.0, 3),\n",
       " (19.5, 3),\n",
       " (31.5, 3),\n",
       " (28.5, 2),\n",
       " (26.0, 2),\n",
       " (23.0, 2),\n",
       " (46.0, 2),\n",
       " (43.5, 2),\n",
       " (nan, 1),\n",
       " (nan, 1)]"
      ]
     },
     "execution_count": 113,
     "metadata": {},
     "output_type": "execute_result"
    }
   ],
   "source": [
    "# Beat b can occur along the interval 1 <= b < 4. Note some beats occur on a fraction with maximum denominator 12.\n",
    "# Therefore, to deal with one data type (floats) our tokens are beat timings multiplied by twelve. We can theoretically divide our generated beat timings by 12 to map back to reality.\n",
    "# That said, this script is just working toward a proof of concept right now, and I suspect our tokenziation will change. Also I bet floats are awful for NLP models so if we end up doing\n",
    "# an RNN or working with tensors we'll probably do what xml does - integers based on note size. I just wanted to move forward on a workflow.\n",
    "# TODO: Linearize repeat bars\n",
    "# TODO: Decide what rhythm is and create smarter tokens\n",
    "# TODO: Remove or handle the 1-2 score(s) with nan beat timings\n",
    "from itertools import chain\n",
    "collections.Counter(list(chain(*tokenized_corpus.values()))).most_common(50)\n"
   ]
  },
  {
   "cell_type": "code",
   "execution_count": 110,
   "metadata": {},
   "outputs": [
    {
     "name": "stdout",
     "output_type": "stream",
     "text": [
      "foo\n"
     ]
    }
   ],
   "source": [
    "# TODO: Random rhythm gen, smart rhythm gen, discover rhythm visualizer and comparison metric..."
   ]
  }
 ],
 "metadata": {
  "kernelspec": {
   "display_name": "Python 3",
   "language": "python",
   "name": "python3"
  },
  "language_info": {
   "codemirror_mode": {
    "name": "ipython",
    "version": 3
   },
   "file_extension": ".py",
   "mimetype": "text/x-python",
   "name": "python",
   "nbconvert_exporter": "python",
   "pygments_lexer": "ipython3",
   "version": "3.8.16"
  },
  "orig_nbformat": 4
 },
 "nbformat": 4,
 "nbformat_minor": 2
}
