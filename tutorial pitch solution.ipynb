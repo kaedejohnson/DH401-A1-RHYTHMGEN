{
 "cells": [
  {
   "cell_type": "markdown",
   "id": "770580ff",
   "metadata": {},
   "source": [
    "## DM 2023 tutorial: scale and pitch\n",
    "\n",
    "Shuxin Meng\n",
    "\n",
    "Part of the content is taken from previous years' tutorials by Gabriele Cecchetti, Johannes Hentschel, Christoph Finkensiep, and Daniel Harasim"
   ]
  },
  {
   "cell_type": "code",
   "execution_count": null,
   "id": "3db99664",
   "metadata": {},
   "outputs": [],
   "source": [
    "import pandas as pd\n",
    "import numpy as np\n",
    "import scipy\n",
    "\n",
    "import matplotlib.pyplot as plt\n",
    "import seaborn as sns\n",
    "\n",
    "from collections import Counter\n",
    "\n",
    "from fractions import Fraction\n",
    "from collections import defaultdict, Counter\n",
    "from iteration_utilities import deepflatten #flatten nested lists\n",
    "\n",
    "from music21 import midi, note, interval, pitch, serial, stream, instrument, meter, key, converter, scale, graph\n",
    "import itertools\n",
    "import random\n",
    "from ast import literal_eval\n",
    "\n",
    "# import cufflinks as cf\n",
    "# cf.go_offline()\n",
    "# cf.set_config_file(theme='white')\n",
    "# pd.options.plotting.backend = \"plotly\"\n",
    "\n",
    "# import nltk #for NLP\n",
    "# import string\n",
    "# import mchmm #for Markov models"
   ]
  },
  {
   "cell_type": "markdown",
   "id": "4d7e6162",
   "metadata": {},
   "source": [
    "# Helpers"
   ]
  },
  {
   "cell_type": "code",
   "execution_count": null,
   "id": "6784a686",
   "metadata": {},
   "outputs": [],
   "source": [
    "def play(stream):\n",
    "    \"\"\"Shortcut to play a stream\"\"\"\n",
    "    midi.realtime.StreamPlayer(stream).play()\n",
    "    \n",
    "def get_stream(pitches, **kwargs):\n",
    "    \"\"\"Turns a collection of pitches into a Stream.\"\"\"\n",
    "    st = stream.Stream(**kwargs)\n",
    "    if isinstance(pitches[0], pitch.Pitch):\n",
    "        for p in pitches:\n",
    "            st.append(note.Note(p))\n",
    "    else:\n",
    "        for p in pitches:\n",
    "            st.append(p)\n",
    "    return st\n",
    "\n",
    "def get_measure(pitches, dur=1, **kwargs):\n",
    "    \"\"\"Turns a collection of pitches into a stream.Measure\"\"\"\n",
    "    st = stream.Measure(**kwargs)\n",
    "    if isinstance(pitches[0], pitch.Pitch):\n",
    "        for p in pitches:\n",
    "            st.append(note.Note(p, quarterLength=dur))\n",
    "    else:\n",
    "        for p in pitches:\n",
    "            st.append(p)\n",
    "    return st\n",
    "\n",
    "def get_notes(pitches, **kwargs):\n",
    "    \"\"\"Convert a collection of pitches into a list of Notes\"\"\"\n",
    "    return [note.Note(p, **kwargs) for p in pitches]\n"
   ]
  },
  {
   "cell_type": "markdown",
   "id": "5e92ecd6",
   "metadata": {},
   "source": [
    "In many musical cultures, the organisation of pitch is based on the selection of an alphabet of pitch material. In most of the Western classical tradition, the largest alphabet is formed by the *chromatic* collection, comprising a subdivision of the octave in 12 chromatic steps, the *semitones*. "
   ]
  },
  {
   "cell_type": "code",
   "execution_count": null,
   "id": "39915ef3",
   "metadata": {},
   "outputs": [],
   "source": [
    "pitch.Pitch(84).name"
   ]
  },
  {
   "cell_type": "code",
   "execution_count": null,
   "id": "a5fae28a",
   "metadata": {},
   "outputs": [],
   "source": [
    "CHROMATIC = range(60, 60+13)\n",
    "m = stream.Measure()\n",
    "m.append([note.Note(pitch = x) for x in CHROMATIC])\n",
    "m.show()"
   ]
  },
  {
   "cell_type": "markdown",
   "id": "07263362",
   "metadata": {},
   "source": [
    "Intervals among pitches are computed by counting the number of 'steps' that separate them."
   ]
  },
  {
   "cell_type": "markdown",
   "id": "925900d5",
   "metadata": {},
   "source": [
    "# Pitch class and Pitch-class sets"
   ]
  },
  {
   "cell_type": "markdown",
   "id": "701e149c",
   "metadata": {},
   "source": [
    "Starting from the chromatic collection, other pitch collections can be formed as subsets of the chromatic one. Note that octave equivalence induces a partition of the chromatic collection (which, in principle, extends indefinitely to the right and to the left), into 12 distinct pitch-classes. E.g.:"
   ]
  },
  {
   "cell_type": "code",
   "execution_count": null,
   "id": "628f4213",
   "metadata": {},
   "outputs": [],
   "source": [
    "note.Note(\"F8\").pitch.pitchClass == note.Note(\"F4\").pitch.pitchClass"
   ]
  },
  {
   "cell_type": "markdown",
   "id": "f85a8733",
   "metadata": {},
   "source": [
    "The interval between two pitch classes is not well-defined: for example, if we consider pitch-classes C and G#, we can have the G# lying 8 semitones above the C..."
   ]
  },
  {
   "cell_type": "code",
   "execution_count": null,
   "id": "d210d110",
   "metadata": {},
   "outputs": [],
   "source": [
    "C = note.Note('C4')\n",
    "highGis = note.Note('G#4')\n",
    "ChighGis = interval.Interval(noteStart = C, noteEnd = highGis)\n",
    "ChighGis.semitones"
   ]
  },
  {
   "cell_type": "markdown",
   "id": "9781509a",
   "metadata": {},
   "source": [
    "or the one 4 semitones below the C:"
   ]
  },
  {
   "cell_type": "code",
   "execution_count": null,
   "id": "0d5909e1",
   "metadata": {},
   "outputs": [],
   "source": [
    "lowGis = note.Note('G#3')\n",
    "lowGisC = interval.Interval(noteStart = lowGis, noteEnd = C)\n",
    "lowGisC.semitones"
   ]
  },
  {
   "cell_type": "markdown",
   "id": "a0e58f4f",
   "metadata": {},
   "source": [
    "We define instead the interval class between two pitch classes as the smallest interval between representatives of the two classes:"
   ]
  },
  {
   "cell_type": "code",
   "execution_count": null,
   "id": "cff8881b",
   "metadata": {},
   "outputs": [],
   "source": [
    "n1 = note.Note('C')\n",
    "n2 = note.Note('G#')\n",
    "n1n2 = interval.Interval(noteStart = n1, noteEnd = n2)\n",
    "n1n2.intervalClass"
   ]
  },
  {
   "cell_type": "markdown",
   "id": "a7b8142d",
   "metadata": {},
   "source": [
    "Pitch-class sets are unordered collections of pitch classes. Each pitch class in a pitch-class set may be identified by a number from 0 to 11, 0 corresponding to the pitch class of a C. "
   ]
  },
  {
   "cell_type": "code",
   "execution_count": null,
   "id": "0b0e7f3e",
   "metadata": {},
   "outputs": [],
   "source": [
    "pitchClassSet = {0, 3, 7}\n",
    "\n",
    "def notes_from_pitchClassSet(pitchClassSet, transpose = 0):\n",
    "    \"\"\"Returns list of notes based on a pitchClassSet and a transposition (default, start on C)\"\"\"\n",
    "    return [note.Note(pitch = pitchClass+transpose) for pitchClass in pitchClassSet]\n",
    "\n",
    "pitchClassSetNotes = notes_from_pitchClassSet(pitchClassSet)\n",
    "pitchClassSetNotes"
   ]
  },
  {
   "cell_type": "markdown",
   "id": "559864c3",
   "metadata": {},
   "source": [
    "In order to characterize a pitch class set, we can look at the intervals formed by the members of the set. In particular, we consider all possible interval classes between any two members of the set. The interval vector of a pitch class is a 6-vector whose i-th component reflects how many interval classes of size i are to be found among all the possible pairings of elements of the set."
   ]
  },
  {
   "cell_type": "code",
   "execution_count": null,
   "id": "f65d9c07",
   "metadata": {},
   "outputs": [],
   "source": [
    "def intervalVector(notes):\n",
    "    \"\"\"Compute the interval vector of a list of notes\"\"\"\n",
    "    vector = {i+1:0 for i in range(6)}\n",
    "    pairs = itertools.combinations(notes, 2)\n",
    "    for pair in pairs:\n",
    "        intClass = interval.Interval(pair[0], pair[1]).intervalClass\n",
    "        vector[intClass] += 1\n",
    "    return vector\n",
    "\n",
    "intervalVector(pitchClassSetNotes)\n"
   ]
  },
  {
   "cell_type": "markdown",
   "id": "78c70f68",
   "metadata": {},
   "source": [
    "Interval vectors capture an important aspect of the compositional possibilities that arise when adopting a certain pitch-class set as the pitch alphabet for a piece (or a portion thereof): they tell us what are the possible intervals that can be formed if those pitches are played one after the other (melodically) or simultaneously (harmonically).\n",
    "\n",
    "Algebraic properties of pitch-class sets, such as their invariances under transformations, are a fertile terrain for creative and algorithmic exploration. If you are interested, you can read more on musical set theory, e.g. starting from this simple introduction https://musictheory.pugetsound.edu/mt21c/SetTheory.html.\n"
   ]
  },
  {
   "cell_type": "code",
   "execution_count": null,
   "id": "2ef8bdef",
   "metadata": {},
   "outputs": [],
   "source": [
    "def select_from_chromatic(intervals, root = 'C'):\n",
    "    \"\"\"Selects pitches from a chromatic collection based on a set of intervals\"\"\"\n",
    "    return [note.Note(pitch = pitch.Pitch(root).midi + x) for x in [0]+[sum(intervals[:i+1]) for i in range(len(intervals))]]"
   ]
  },
  {
   "cell_type": "markdown",
   "id": "433667bf",
   "metadata": {},
   "source": [
    "# Scales and modes"
   ]
  },
  {
   "cell_type": "markdown",
   "id": "3d4ee885",
   "metadata": {},
   "source": [
    "A very commong ordered subcollection of the chromatic collection in Western classical music is the major scale, that we can identify by indicating the intervals in semitones between consecutive tones:"
   ]
  },
  {
   "cell_type": "code",
   "execution_count": null,
   "id": "893e1037",
   "metadata": {
    "scrolled": true
   },
   "outputs": [],
   "source": [
    "MAJOR = [2, 2, 1, 2, 2, 2, 1]\n",
    "m = stream.Measure()\n",
    "m.append(select_from_chromatic(MAJOR))\n",
    "play(m)\n",
    "m.show()"
   ]
  },
  {
   "cell_type": "markdown",
   "id": "bbf23592",
   "metadata": {},
   "source": [
    "Get the interval name from distance in semitones"
   ]
  },
  {
   "cell_type": "code",
   "execution_count": null,
   "id": "c42880de",
   "metadata": {},
   "outputs": [],
   "source": [
    "MAJOR_INTERVAL = [interval.Interval(i).name for i in MAJOR]\n",
    "MAJOR_INTERVAL"
   ]
  },
  {
   "cell_type": "markdown",
   "id": "77f26375",
   "metadata": {},
   "source": [
    "Note that the intervals in a major scale are not all the same: between the third and the fourth note, as well as between the seventh and the eigth (which is equivalent to the first under octave equivalence) there is an interval of just 1 semitone. \n",
    "\n",
    "We can obtain other *modes* that are based on the same selection of itnervals by rotating the list of intervals, and changing the root."
   ]
  },
  {
   "cell_type": "code",
   "execution_count": null,
   "id": "7ef552d3",
   "metadata": {},
   "outputs": [],
   "source": [
    "def rotate_list(l, n):\n",
    "    \"\"\"rotate list l by n steps\"\"\"\n",
    "    return l[n:] + l[:n]\n",
    "\n",
    "def select_mode(scale, mode, root):\n",
    "    \"\"\"select a mode based on a root\"\"\"\n",
    "    return select_from_chromatic(rotate_list(scale, mode), root)\n"
   ]
  },
  {
   "cell_type": "markdown",
   "id": "5de30313",
   "metadata": {},
   "source": [
    "## Exercise:\n",
    "\n",
    "How to get the D major sequence?"
   ]
  },
  {
   "cell_type": "code",
   "execution_count": null,
   "id": "65eac22f",
   "metadata": {},
   "outputs": [],
   "source": [
    "select_mode(MAJOR, 0, \"D\")"
   ]
  },
  {
   "cell_type": "markdown",
   "id": "da3b0309",
   "metadata": {},
   "source": [
    "For example, here is the so-called \"phrygian\" mode, which shares all pitches with the major scale, but with a different ordering of intervals (starting from root E):"
   ]
  },
  {
   "cell_type": "code",
   "execution_count": null,
   "id": "e809dc91",
   "metadata": {
    "scrolled": true
   },
   "outputs": [],
   "source": [
    "phrygian = select_mode(MAJOR, 2, 'E')\n",
    "m = stream.Measure()\n",
    "m.append(phrygian)\n",
    "play(m)\n",
    "m.show()"
   ]
  },
  {
   "cell_type": "markdown",
   "id": "573cbe9d",
   "metadata": {},
   "source": [
    "## Exercise: \n",
    "\n",
    "How to get back the interval structure of phrygian by only looking at the phrygian\n",
    "\n",
    "The expected output should be: [1, 2, 2, 2, 3, 2, 2]"
   ]
  },
  {
   "cell_type": "code",
   "execution_count": null,
   "id": "de9ec1d4",
   "metadata": {},
   "outputs": [],
   "source": [
    "[(pitch.Pitch(t.name).midi - pitch.Pitch(s.name).midi) % 6 for s, t in zip(phrygian, phrygian[1:])]"
   ]
  },
  {
   "cell_type": "markdown",
   "id": "80ce5f04",
   "metadata": {},
   "source": [
    "Let's look at the pentatonic scales"
   ]
  },
  {
   "cell_type": "code",
   "execution_count": null,
   "id": "fcd86d2e",
   "metadata": {},
   "outputs": [],
   "source": [
    "PENTATONIC = [2, 2, 3, 2, 3]"
   ]
  },
  {
   "cell_type": "code",
   "execution_count": null,
   "id": "eef780d5",
   "metadata": {},
   "outputs": [],
   "source": [
    "m = stream.Measure()\n",
    "m.append(select_from_chromatic(PENTATONIC))\n",
    "play(m)\n",
    "m.show()"
   ]
  },
  {
   "cell_type": "markdown",
   "id": "1f1fa820",
   "metadata": {},
   "source": [
    "## Exercise: \n",
    "\n",
    "There are five versions of this pentatonic: C D E G A, D E G A C, E G A C D, G A C D E, A C D E G\n",
    "\n",
    "How to get the five modes in a pentatonic starting from C? \n"
   ]
  },
  {
   "cell_type": "code",
   "execution_count": null,
   "id": "0bd6d6e5",
   "metadata": {},
   "outputs": [],
   "source": [
    "[select_mode(PENTATONIC, i, pitch.Pitch(60).name) for i in range(len(PENTATONIC) - 1)]"
   ]
  },
  {
   "cell_type": "markdown",
   "id": "2de9c8d0",
   "metadata": {},
   "source": [
    "How many pentatonic in a chromatic set of 12 pitches?"
   ]
  },
  {
   "cell_type": "code",
   "execution_count": null,
   "id": "0709cfae",
   "metadata": {},
   "outputs": [],
   "source": [
    "pentatonic_all = []\n",
    "for i in CHROMATIC:\n",
    "    pentatonic_all.append([select_mode(PENTATONIC, j, i) for j in range(len(PENTATONIC))])\n",
    "len(list(deepflatten(pentatonic_all, depth = 1)))"
   ]
  },
  {
   "cell_type": "code",
   "execution_count": null,
   "id": "3b2d0630",
   "metadata": {
    "scrolled": true
   },
   "outputs": [],
   "source": [
    "A_PENTATONIC = pentatonic_all[0][4]"
   ]
  },
  {
   "cell_type": "markdown",
   "id": "e1f6cbdd",
   "metadata": {},
   "source": [
    "# Melody generation\n",
    "## Random"
   ]
  },
  {
   "cell_type": "code",
   "execution_count": null,
   "id": "480d8efc",
   "metadata": {},
   "outputs": [],
   "source": [
    "get_measure(A_PENTATONIC).show()"
   ]
  },
  {
   "cell_type": "code",
   "execution_count": null,
   "id": "d7bb60cb",
   "metadata": {},
   "outputs": [],
   "source": [
    "sc = scale.ConcreteScale(pitches = A_PENTATONIC)"
   ]
  },
  {
   "cell_type": "code",
   "execution_count": null,
   "id": "36554fdf",
   "metadata": {
    "scrolled": true
   },
   "outputs": [],
   "source": [
    "pitch_collection = sc.getPitches('C4', 'C5')\n",
    "print(f\"pitch_collection contains {len(pitch_collection)} pitches.\")"
   ]
  },
  {
   "cell_type": "markdown",
   "id": "ad25a36e",
   "metadata": {},
   "source": [
    "## Exercise:\n",
    "Can you generate a random melody with 20 notes?"
   ]
  },
  {
   "cell_type": "code",
   "execution_count": null,
   "id": "bd085c6c",
   "metadata": {
    "scrolled": true
   },
   "outputs": [],
   "source": [
    "random_melody = random.choices(pitch_collection, k = 20)\n",
    "get_measure(random_melody).show()"
   ]
  },
  {
   "cell_type": "markdown",
   "id": "1641596a",
   "metadata": {},
   "source": [
    "## Exercise:\n",
    "Can you add duration for each note with either quarter or eighth length?"
   ]
  },
  {
   "cell_type": "code",
   "execution_count": null,
   "id": "5b77e556",
   "metadata": {},
   "outputs": [],
   "source": [
    "notes = [note.Note(pitch=p, quarterLength = random.choice([0.5, 1])) for p in random_melody]\n",
    "melody = get_stream(notes)\n",
    "melody.show()\n",
    "play(melody)"
   ]
  },
  {
   "cell_type": "markdown",
   "id": "df0cfd03",
   "metadata": {},
   "source": [
    "# Examine the dataset"
   ]
  },
  {
   "cell_type": "code",
   "execution_count": null,
   "id": "1f897f9d",
   "metadata": {},
   "outputs": [],
   "source": [
    "data_essen = pd.read_csv('Essen_folksong_collection.csv', index_col=0, sep='\\t')\n",
    "data_essen[\"DGIs\"] = data_essen[\"DGIs\"].apply(literal_eval)\n",
    "data_essen[\"spelled_pitches\"] = data_essen[\"spelled_pitches\"].apply(literal_eval)\n",
    "\n",
    "data_essen[\"region\"].unique()"
   ]
  },
  {
   "cell_type": "code",
   "execution_count": null,
   "id": "d1a92f5a",
   "metadata": {},
   "outputs": [],
   "source": [
    "essen_china = data_essen[(data_essen[\"region\"] == 'han') & (data_essen[\"key\"].notnull())]\n",
    "essen_china.head()"
   ]
  },
  {
   "cell_type": "code",
   "execution_count": null,
   "id": "83714e5f",
   "metadata": {},
   "outputs": [],
   "source": [
    "sequences_essen_key = essen_china[\"key\"].to_list()\n",
    "len(sequences_essen_key)"
   ]
  },
  {
   "cell_type": "code",
   "execution_count": null,
   "id": "2c44e5b9",
   "metadata": {},
   "outputs": [],
   "source": [
    "sequences_essen_root = [i.split()[0]  for i in sequences_essen_key ]\n",
    "len(sequences_essen_root)"
   ]
  },
  {
   "cell_type": "code",
   "execution_count": null,
   "id": "c8863e60",
   "metadata": {},
   "outputs": [],
   "source": [
    "sequences_essen_mode = [i.split()[1]  for i in sequences_essen_key ]\n",
    "len(sequences_essen_mode)"
   ]
  },
  {
   "cell_type": "code",
   "execution_count": null,
   "id": "92b5deb1",
   "metadata": {},
   "outputs": [],
   "source": [
    "# sequences_essen_int = [\n",
    "#     [ interval.strip( '\\\"[\\',\\]' ) for interval in row.DGIs.split() ] \n",
    "#     for (i, row) in essen_china.iterrows()\n",
    "# ]\n",
    "\n",
    "# len(sequences_essen_int)"
   ]
  },
  {
   "cell_type": "code",
   "execution_count": null,
   "id": "90990ac3",
   "metadata": {
    "scrolled": true
   },
   "outputs": [],
   "source": [
    "# split and strip pitches\n",
    "sequences_essen_pitch = []\n",
    "for (i, row) in essen_china.iterrows():\n",
    "    temp = []\n",
    "    for p in row.spelled_pitches:\n",
    "#         temp.append(pitch.Pitch(p).name) # if only consider pitch class\n",
    "        temp.append(p) # with octave\n",
    "    \n",
    "    sequences_essen_pitch.append(temp)\n",
    "\n",
    "len(sequences_essen_pitch)"
   ]
  },
  {
   "cell_type": "code",
   "execution_count": null,
   "id": "8b808406",
   "metadata": {},
   "outputs": [],
   "source": [
    "sequences_essen_pitch_transposed = []\n",
    "for p in range(len(sequences_essen_pitch)):\n",
    "    temp = []\n",
    "    for n in sequences_essen_pitch[p]:\n",
    "        temp.append(pitch.Pitch(n).transpose(interval.Interval(pitch.Pitch(sequences_essen_root[p]), pitch.Pitch(\"C\"))))\n",
    "    \n",
    "    sequences_essen_pitch_transposed.append(temp)\n",
    "len(sequences_essen_pitch_transposed)"
   ]
  },
  {
   "cell_type": "code",
   "execution_count": null,
   "id": "acb3ef4f",
   "metadata": {},
   "outputs": [],
   "source": [
    "pd.Series(deepflatten(sequences_essen_pitch, depth = 1)).apply(lambda x : pitch.Pitch(x).pitchClass).value_counts(normalize=True).sort_index().plot(kind='bar', color=\"orange\")"
   ]
  },
  {
   "cell_type": "code",
   "execution_count": null,
   "id": "7c0418a4",
   "metadata": {},
   "outputs": [],
   "source": [
    "pd.Series(deepflatten(sequences_essen_pitch_transposed, depth = 1)).apply(lambda x : pitch.Pitch(x).pitchClass).value_counts(normalize=True).sort_index().plot(kind='bar', color=\"orange\")"
   ]
  },
  {
   "cell_type": "markdown",
   "id": "b3bb42f3",
   "metadata": {},
   "source": [
    "## 1. Computing bigrams"
   ]
  },
  {
   "cell_type": "code",
   "execution_count": null,
   "id": "7997658a",
   "metadata": {},
   "outputs": [],
   "source": [
    "def bigrams_seq(seq):\n",
    "    return list(zip(seq[:-1], seq[1:]))\n",
    "\n",
    "def bigrams_corpus(seqs):\n",
    "    return [bg for seq in seqs for bg in bigrams_seq(seq)]\n",
    "\n",
    "bigrams = bigrams_corpus(sequences_essen_pitch)\n",
    "bg_counts = Counter(bigrams)\n",
    "bg_counts.most_common(20)"
   ]
  },
  {
   "cell_type": "markdown",
   "id": "37aa6cbd",
   "metadata": {},
   "source": [
    "## 2. Draw the bigrams"
   ]
  },
  {
   "cell_type": "code",
   "execution_count": null,
   "id": "746180c1",
   "metadata": {},
   "outputs": [],
   "source": [
    "x1s    = [ x1  for ((x1, x2), count) in bg_counts.items() ]\n",
    "x2s    = [ x2  for ((x1, x2), count) in bg_counts.items() ]\n",
    "counts = [ count for ((x1, x2), count) in bg_counts.items() ]\n",
    "\n",
    "# counts\n",
    "# bg_counts"
   ]
  },
  {
   "cell_type": "code",
   "execution_count": null,
   "id": "ef7228c1",
   "metadata": {},
   "outputs": [],
   "source": [
    "df = pd.DataFrame({\"x1\": [x for x in x1s], \"x2\": [i for i in x2s], \"counts\": counts})\n",
    "df.head()\n",
    "\n",
    "df_wide = df.pivot_table(index=[\"x1\"], columns=\"x2\", values=\"counts\").fillna(0)\n",
    "df_wide.head()"
   ]
  },
  {
   "cell_type": "code",
   "execution_count": null,
   "id": "c75434e2",
   "metadata": {},
   "outputs": [],
   "source": [
    "plt.figure(figsize=(10,10))\n",
    "sns.heatmap(data=df_wide, cmap=\"coolwarm\")"
   ]
  },
  {
   "cell_type": "code",
   "execution_count": null,
   "id": "a17caf75",
   "metadata": {},
   "outputs": [],
   "source": [
    "# Compute transition table\n",
    "\n",
    "transitions = dict()\n",
    "for ((x1, x2), count) in bg_counts.items():\n",
    "    if not (x1 in transitions):\n",
    "        transitions[x1] = dict()\n",
    "    transitions[x1][x2] = count"
   ]
  },
  {
   "cell_type": "code",
   "execution_count": null,
   "id": "dd9c7924",
   "metadata": {},
   "outputs": [],
   "source": [
    "def normalize_dict(dictionary):\n",
    "    S = sum(dictionary.values())\n",
    "    return dict([(k, v/S) for (k, v) in dictionary.items()])"
   ]
  },
  {
   "cell_type": "code",
   "execution_count": null,
   "id": "80a20f3b",
   "metadata": {},
   "outputs": [],
   "source": [
    "transitions_norm = dict([(x1, normalize_dict(counts)) for (x1, counts) in transitions.items()])"
   ]
  },
  {
   "cell_type": "code",
   "execution_count": null,
   "id": "3b9d32fb",
   "metadata": {},
   "outputs": [],
   "source": [
    "# transitions_norm"
   ]
  },
  {
   "cell_type": "code",
   "execution_count": null,
   "id": "0f5b72d4",
   "metadata": {},
   "outputs": [],
   "source": [
    "def next_note(trans, note):\n",
    "    dist = trans[note]\n",
    "    items = dist.items()\n",
    "    candidates = [note for (note, prob) in items]\n",
    "    probs = [prob for (note, prob) in items]\n",
    "    return np.random.choice(candidates, p = probs)"
   ]
  },
  {
   "cell_type": "code",
   "execution_count": null,
   "id": "44ba0693",
   "metadata": {},
   "outputs": [],
   "source": [
    "def sample_piece(trans, length):\n",
    "    fist_note = np.random.choice(list(trans.keys()))\n",
    "    notes = [fist_note]\n",
    "    for i in range(1, length):\n",
    "        note = next_note(trans, fist_note)\n",
    "        notes.append(note)\n",
    "    return notes"
   ]
  },
  {
   "cell_type": "code",
   "execution_count": null,
   "id": "7ffba475",
   "metadata": {},
   "outputs": [],
   "source": [
    "notes = [note.Note(pitch = p, quarterLength = 0.5) for p in sample_piece(transitions_norm, 20)]\n"
   ]
  },
  {
   "cell_type": "code",
   "execution_count": null,
   "id": "88d9cab6",
   "metadata": {},
   "outputs": [],
   "source": [
    "random_china = get_measure(notes)\n",
    "random_china.show()\n",
    "play(random_china)"
   ]
  },
  {
   "cell_type": "code",
   "execution_count": null,
   "id": "95f0ff11",
   "metadata": {},
   "outputs": [],
   "source": []
  }
 ],
 "metadata": {
  "kernelspec": {
   "display_name": "Python 3 (ipykernel)",
   "language": "python",
   "name": "python3"
  },
  "language_info": {
   "codemirror_mode": {
    "name": "ipython",
    "version": 3
   },
   "file_extension": ".py",
   "mimetype": "text/x-python",
   "name": "python",
   "nbconvert_exporter": "python",
   "pygments_lexer": "ipython3",
   "version": "3.9.12"
  }
 },
 "nbformat": 4,
 "nbformat_minor": 5
}
