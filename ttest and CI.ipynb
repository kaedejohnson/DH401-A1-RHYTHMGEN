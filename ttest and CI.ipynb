{
 "cells": [
  {
   "cell_type": "markdown",
   "id": "41da48eb",
   "metadata": {},
   "source": [
    "### Setup"
   ]
  },
  {
   "cell_type": "code",
   "execution_count": 18,
   "id": "54b74b65",
   "metadata": {},
   "outputs": [],
   "source": [
    "import numpy as np\n",
    "import scipy.stats as st"
   ]
  },
  {
   "cell_type": "code",
   "execution_count": 19,
   "id": "b3bb1e21",
   "metadata": {},
   "outputs": [],
   "source": [
    "import pickle\n",
    "with open('orig_to_bigr_distancesfirst200.pkl', 'rb') as f:\n",
    "    data_bigr = pickle.load(f)\n",
    "with open('orig_to_bigr_distancessecond200.pkl', 'rb') as f:\n",
    "    data_bigr2 = pickle.load(f)\n",
    "\n",
    "with open('orig_to_orig_distances_first200.pkl', 'rb') as f:\n",
    "    data_orig = pickle.load(f)\n",
    "with open('orig_to_orig_distances_second200.pkl', 'rb') as f:\n",
    "    data_orig2 = pickle.load(f)\n",
    "    \n",
    "with open('orig_to_rand_distancesfirst200.pkl', 'rb') as f:\n",
    "    data_rand = pickle.load(f)\n",
    "with open('orig_to_rand_distancessecond200.pkl', 'rb') as f:\n",
    "    data_rand2 = pickle.load(f)\n",
    "    \n",
    "    \n",
    "with open('bigr_to_bigr_all.pkl', 'rb') as f:\n",
    "    data_bigr_bigr = pickle.load(f)"
   ]
  },
  {
   "cell_type": "code",
   "execution_count": 20,
   "id": "fbcd87e7",
   "metadata": {},
   "outputs": [],
   "source": [
    "def Merge(dict1, dict2):\n",
    "    res = {**dict1, **dict2}\n",
    "    return res"
   ]
  },
  {
   "cell_type": "code",
   "execution_count": 21,
   "id": "82c8ef9e",
   "metadata": {},
   "outputs": [],
   "source": [
    "bigr = Merge(data_bigr, data_bigr2)\n",
    "orig = Merge(data_orig, data_orig2)\n",
    "rand = Merge(data_rand, data_rand2)"
   ]
  },
  {
   "cell_type": "code",
   "execution_count": 22,
   "id": "27abdb49",
   "metadata": {},
   "outputs": [],
   "source": [
    "with open('orig_to_orig_all.pkl', 'wb') as f:\n",
    "    pickle.dump(orig, f)\n",
    "with open('orig_to_rand_all.pkl', 'wb') as f:\n",
    "    pickle.dump(rand, f)\n",
    "with open('orig_to_bigr_all.pkl', 'wb') as f:\n",
    "    pickle.dump(bigr, f)"
   ]
  },
  {
   "cell_type": "code",
   "execution_count": 23,
   "id": "f8bf1871",
   "metadata": {},
   "outputs": [],
   "source": [
    "dist_bigr = list()\n",
    "dist_bigr_bigr = list()\n",
    "dist_orig = list()\n",
    "dist_rand = list()\n",
    "for key in data_bigr:\n",
    "    dist_bigr.append(list(data_bigr[key].values()))\n",
    "for key in data_bigr2:\n",
    "    dist_bigr.append(list(data_bigr2[key].values()))\n",
    "    \n",
    "\n",
    "for key in data_orig:\n",
    "    dist_orig.append(list(data_orig[key].values()))\n",
    "for key in data_orig2:\n",
    "    dist_orig.append(list(data_orig2[key].values()))\n",
    "    \n",
    "for key in data_rand:\n",
    "    dist_rand.append(list(data_rand[key].values()))\n",
    "for key in data_rand2:\n",
    "    dist_rand.append(list(data_rand2[key].values()))\n",
    "    \n",
    "for key in data_bigr_bigr:\n",
    "    dist_bigr_bigr.append(list(data_bigr_bigr[key].values()))"
   ]
  },
  {
   "cell_type": "code",
   "execution_count": 24,
   "id": "2984511b",
   "metadata": {},
   "outputs": [],
   "source": [
    "def flatten(l):\n",
    "    return [float(item) for sublist in l for item in sublist]"
   ]
  },
  {
   "cell_type": "code",
   "execution_count": 25,
   "id": "4b09a37a",
   "metadata": {},
   "outputs": [],
   "source": [
    "def flatten2(l):\n",
    "    return [float(item) for item in l]"
   ]
  },
  {
   "cell_type": "code",
   "execution_count": 26,
   "id": "b9b8ecbb",
   "metadata": {},
   "outputs": [],
   "source": [
    "dist_bigr = flatten(dist_bigr)\n",
    "dist_bigr_bigr = flatten(dist_bigr_bigr)\n",
    "dist_orig = flatten(dist_orig)\n",
    "dist_rand = flatten(dist_rand)"
   ]
  },
  {
   "cell_type": "code",
   "execution_count": 27,
   "id": "b1ea4922",
   "metadata": {},
   "outputs": [],
   "source": [
    "dist_bigr = [x for x in dist_bigr if str(x) != 'nan']\n",
    "dist_orig = [x for x in dist_orig if str(x) != 'nan']\n",
    "dist_rand = [x for x in dist_rand if str(x) != 'nan']\n",
    "dist_bigr_bigr = [x for x in dist_bigr_bigr if str(x) != 'nan']"
   ]
  },
  {
   "cell_type": "code",
   "execution_count": 28,
   "id": "4ddd187d",
   "metadata": {},
   "outputs": [],
   "source": [
    "def values_to_list(val, key):\n",
    "    l = list(val[key].values())\n",
    "    l = flatten2(l)\n",
    "    l = [x for x in l if str(x) != 'nan']\n",
    "    return l"
   ]
  },
  {
   "cell_type": "code",
   "execution_count": 29,
   "id": "f00b0edb",
   "metadata": {},
   "outputs": [],
   "source": [
    "def ttest(filename):\n",
    "    d_orig = values_to_list(data_orig, filename)\n",
    "    d_bigr = values_to_list(data_bigr, filename)\n",
    "    d_rand = values_to_list(data_rand, filename)\n",
    "    \n",
    "    t1 = st.ttest_ind(d_orig, d_rand, alternative = \"less\")\n",
    "    t2 = st.ttest_ind(d_orig, d_bigr, alternative = \"less\")\n",
    "    t3 = st.ttest_ind(d_bigr, d_rand, alternative = \"less\")\n",
    "    \n",
    "    return [t1[1], t2[1], t3[1]]"
   ]
  },
  {
   "cell_type": "code",
   "execution_count": 30,
   "id": "71a7817e",
   "metadata": {},
   "outputs": [],
   "source": [
    "pvalue1 = 0\n",
    "pvalue2 = 0\n",
    "pvalue3 = 0\n",
    "for key in data_orig:\n",
    "    t = ttest(key)\n",
    "    if t[0] < 0.05:\n",
    "        pvalue1 += 1\n",
    "    if t[1] < 0.05:\n",
    "        pvalue2 += 1\n",
    "    if t[2] < 0.05:\n",
    "        pvalue3 += 1\n",
    "    "
   ]
  },
  {
   "cell_type": "code",
   "execution_count": 31,
   "id": "4552124c",
   "metadata": {},
   "outputs": [
    {
     "data": {
      "text/plain": [
       "array([1.        , 0.67336683, 1.        ])"
      ]
     },
     "execution_count": 31,
     "metadata": {},
     "output_type": "execute_result"
    }
   ],
   "source": [
    "np.array([pvalue1, pvalue2, pvalue3])/len(data_orig)"
   ]
  },
  {
   "cell_type": "code",
   "execution_count": 32,
   "id": "bb77f506",
   "metadata": {
    "scrolled": true
   },
   "outputs": [
    {
     "name": "stderr",
     "output_type": "stream",
     "text": [
      "/tmp/ipykernel_8935/919853876.py:10: DeprecationWarning: Use of keyword argument 'alpha' for method 'interval' is deprecated and wil be removed in SciPy 1.11.0. Use first positional argument or keyword argument 'confidence' instead.\n",
      "  confidence_interval = st.t.interval(alpha = 0.95, df=len(values)-1, loc=mean, scale=stdev)\n"
     ]
    },
    {
     "data": {
      "image/png": "[encoded data removed]",
      "text/plain": [
       "<Figure size 432x288 with 1 Axes>"
      ]
     },
     "metadata": {
      "image/png": {
       "height": 263,
       "width": 397
      },
      "needs_background": "light"
     },
     "output_type": "display_data"
    }
   ],
   "source": [
    "import matplotlib.pyplot as plt\n",
    "import statistics\n",
    "from math import sqrt\n",
    "import scipy.stats as st\n",
    "import numpy as np\n",
    "\n",
    "def plot_confidence_interval(x, values, color='#2187bb', horizontal_line_width=0.25):\n",
    "    mean = np.mean(values)\n",
    "    stdev = np.std(values)\n",
    "    confidence_interval = st.t.interval(alpha = 0.95, df=len(values)-1, loc=mean, scale=stdev)\n",
    "\n",
    "    left = x - horizontal_line_width / 2\n",
    "    top = max(confidence_interval)\n",
    "    right = x + horizontal_line_width / 2\n",
    "    bottom = min(confidence_interval)\n",
    "    plt.plot([x, x], [top, bottom], color=color)\n",
    "    plt.plot([left, right], [top, top], color=color)\n",
    "    plt.plot([left, right], [bottom, bottom], color=color)\n",
    "    plt.plot(x, mean, 'o', color='#f44336')\n",
    "\n",
    "    return mean, confidence_interval\n",
    "\n",
    "\n",
    "plt.xticks([1, 2, 3, 4], ['Actual-Random', 'Actual-Generated', 'Actual-Actual', 'Generated-Generated'])\n",
    "plt.title('Mean Difference Confidence Interval')\n",
    "plot_confidence_interval(1, dist_rand)\n",
    "plot_confidence_interval(2, dist_bigr)\n",
    "plot_confidence_interval(3, dist_orig)\n",
    "plot_confidence_interval(4, dist_bigr_bigr)\n",
    "plt.show()\n",
    "#import tikzplotlib\n",
    "#tikzplotlib.save(\"mytikz3.tex\")"
   ]
  },
  {
   "cell_type": "markdown",
   "id": "25c9232b",
   "metadata": {},
   "source": [
    "-------------"
   ]
  }
 ],
 "metadata": {
  "kernelspec": {
   "display_name": "digital_musicology",
   "language": "python",
   "name": "digital_musicology"
  },
  "language_info": {
   "codemirror_mode": {
    "name": "ipython",
    "version": 3
   },
   "file_extension": ".py",
   "mimetype": "text/x-python",
   "name": "python",
   "nbconvert_exporter": "python",
   "pygments_lexer": "ipython3",
   "version": "3.11.0"
  }
 },
 "nbformat": 4,
 "nbformat_minor": 5
}
